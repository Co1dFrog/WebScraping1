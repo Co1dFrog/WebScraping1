{
 "cells": [
  {
   "cell_type": "markdown",
   "metadata": {},
   "source": [
    "# 配置环境"
   ]
  },
  {
   "cell_type": "markdown",
   "metadata": {},
   "source": [
    "<ul>\n",
    "<li><a href='https://git-scm.com/download/win'>下载并安装git</a></li>\n",
    "<li><a href='https://chromedriver.chromium.org/downloads'>下载版本匹配的chrome webdriver</a></li>\n",
    "<li>webdriver放到路径中</li>\n",
    "<li>配置虚拟环境</li>\n",
    "<li>安装依赖库</li>\n",
    "</ol>"
   ]
  },
  {
   "cell_type": "markdown",
   "metadata": {},
   "source": [
    "# 案例：爬取Buff网站饰品价格"
   ]
  },
  {
   "cell_type": "code",
   "execution_count": 1,
   "metadata": {},
   "outputs": [],
   "source": [
    "#加载需要的库\n",
    "import bs4\n",
    "import pandas as pd\n",
    "import time\n",
    "import random\n",
    "from selenium import webdriver"
   ]
  },
  {
   "cell_type": "code",
   "execution_count": 2,
   "metadata": {},
   "outputs": [],
   "source": [
    "#初始化浏览器&登录\n",
    "driver = webdriver.Chrome()\n",
    "driver.get('https://buff.163.com')"
   ]
  },
  {
   "cell_type": "code",
   "execution_count": 4,
   "metadata": {},
   "outputs": [],
   "source": [
    "#获取所有武器标签\n",
    "driver.get('https://buff.163.com/market/csgo#tab=buying&page_num=1')\n",
    "html = driver.execute_script(\"return document.body.outerHTML;\")#\n",
    "page=bs4.BeautifulSoup(html)\n",
    "weapon_values=[]\n",
    "weapons=[]\n",
    "target=page.find(id=\"j_h1z1-selType\")\n",
    "for li in target.find_all('li'):\n",
    "    weapon_values.append(li.get('value'))\n",
    "    weapons.append(li.text)"
   ]
  },
  {
   "cell_type": "code",
   "execution_count": 8,
   "metadata": {},
   "outputs": [],
   "source": [
    "#建excel表格存储数据\n",
    "filename=time.strftime(\"%Y-%m-%d %H\")+'点饰品市场数据.xlsx'\n",
    "data=pd.DataFrame()\n",
    "url=r'D:\\技术课程\\python爬虫\\result/'#\n",
    "data.to_excel(url+filename,sheet_name=\"空表用于计算\")"
   ]
  },
  {
   "cell_type": "code",
   "execution_count": 10,
   "metadata": {},
   "outputs": [],
   "source": [
    "#分种类爬取饰品\n",
    "for j in range(len(weapon_values)):\n",
    "    driver.get('https://buff.163.com/market/csgo#tab=buying&page_num=1&category='+weapon_values[j])\n",
    "    driver.refresh()\n",
    "    # HTML from `<body>`\n",
    "    time.sleep(5+random.random())\n",
    "    html = driver.execute_script(\"return document.body.outerHTML;\")#\n",
    "    soup=bs4.BeautifulSoup(html)\n",
    "    list_html=soup.find('div',id=\"j_list_card\")\n",
    "    list_href=[]\n",
    "    list_title=[]\n",
    "    list_price=[]\n",
    "    list_need=[]\n",
    "    list_wearcatogory=[]\n",
    "    try:\n",
    "        a_html=list_html.find_all('a')\n",
    "    except:\n",
    "        continue\n",
    "    for i in range(len(a_html)):\n",
    "        if i%2==0:\n",
    "            list_href.append(\"https://buff.163.com/\"+a_html[i]['href'])\n",
    "    for i in range(len(a_html)):\n",
    "        if i%2==0:\n",
    "            list_title.append(a_html[i]['title'])\n",
    "    strong_html=list_html.find_all('strong')\n",
    "    for strong in strong_html:\n",
    "        list_price.append(strong.text.replace('¥ ',''))\n",
    "    span_html=list_html.find_all('span')\n",
    "    if len(span_html)>len(strong_html):\n",
    "        for i in range(len(span_html)):\n",
    "            if i%2 ==0:\n",
    "                list_need.append(span_html[i].string.replace('\\n','').replace(' ','').replace('件需求',''))\n",
    "            else:\n",
    "                list_wearcatogory.append(span_html[i].string)\n",
    "    else:\n",
    "        for i in range(len(span_html)):\n",
    "            list_need.append(span_html[i].string.replace('\\n','').replace(' ','').replace('件需求',''))\n",
    "            list_wearcatogory.append('-')\n",
    "\n",
    "    #存储进表格\n",
    "    data=pd.DataFrame()\n",
    "    data['物品']=list_title\n",
    "    data['Buff求购最高价']=list_price\n",
    "    data['需求']=list_need\n",
    "    data['品质']=list_wearcatogory\n",
    "    data['链接']=list_href\n",
    "\n",
    "    writer = pd.ExcelWriter(url+filename,mode='a',engine='openpyxl')\n",
    "    data.to_excel(writer,sheet_name=weapons[j].replace(':',''))\n",
    "    writer.save()\n",
    "writer.close()"
   ]
  }
 ],
 "metadata": {
  "interpreter": {
   "hash": "a75da05eb83c385b2822addefffae9ca7de533dc27ea529b9b7460b805d5c155"
  },
  "kernelspec": {
   "display_name": "Python 3.9.5 ('pj': venv)",
   "language": "python",
   "name": "python3"
  },
  "language_info": {
   "codemirror_mode": {
    "name": "ipython",
    "version": 3
   },
   "file_extension": ".py",
   "mimetype": "text/x-python",
   "name": "python",
   "nbconvert_exporter": "python",
   "pygments_lexer": "ipython3",
   "version": "3.9.5"
  },
  "orig_nbformat": 4
 },
 "nbformat": 4,
 "nbformat_minor": 2
}
